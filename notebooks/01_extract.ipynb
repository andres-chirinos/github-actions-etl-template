{
 "cells": [
  {
   "cell_type": "code",
   "execution_count": null,
   "id": "2820b868",
   "metadata": {},
   "outputs": [],
   "source": [
    "# Install dependencies\n",
    "%pip install --upgrade pip \n",
    "%pip install papermill pandas PyDrive kaggle"
   ]
  },
  {
   "cell_type": "code",
   "execution_count": null,
   "id": "25728719",
   "metadata": {},
   "outputs": [],
   "source": [
    "# Imports + configs\n",
    "import pandas as pd\n",
    "\n",
    "# PARAMETERS (para papermill)\n",
    "input_url = \"https://example.com/tabla-precios\""
   ]
  },
  {
   "cell_type": "code",
   "execution_count": null,
   "id": "9e757bf7",
   "metadata": {},
   "outputs": [],
   "source": [
    "# EXTRACT\n",
    "print(f\"Extrayendo datos de {input_url}...\")\n",
    "tables = pd.read_html(input_url)\n",
    "df = tables[0]\n",
    "\n",
    "df.to_csv('data/raw_data.csv', index=False)\n",
    "print(\"Datos extraídos y guardados.\")"
   ]
  }
 ],
 "metadata": {
  "kernelspec": {
   "display_name": ".venv",
   "language": "python",
   "name": "python3"
  },
  "language_info": {
   "name": "python",
   "version": "3.10.12"
  }
 },
 "nbformat": 4,
 "nbformat_minor": 5
}
