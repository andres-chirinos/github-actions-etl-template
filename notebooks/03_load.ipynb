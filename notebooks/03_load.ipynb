{
 "cells": [
  {
   "cell_type": "code",
   "execution_count": null,
   "id": "3639ba22",
   "metadata": {},
   "outputs": [],
   "source": [
    "import os\n",
    "import subprocess\n",
    "from pydrive.auth import GoogleAuth\n",
    "from pydrive.drive import GoogleDrive\n",
    "\n",
    "# PARAMETERS\n",
    "file_to_upload = 'data/clean_data.csv'\n",
    "drive_folder_id = os.getenv('DRIVE_FOLDER_ID')\n",
    "\n",
    "# UPLOAD TO DRIVE\n",
    "print(\"Subiendo a Google Drive...\")\n",
    "gauth = GoogleAuth()\n",
    "gauth.LocalWebserverAuth()\n",
    "drive = GoogleDrive(gauth)\n",
    "\n",
    "file_drive = drive.CreateFile({'parents': [{'id': drive_folder_id}]})\n",
    "file_drive.SetContentFile(file_to_upload)\n",
    "file_drive.Upload()\n",
    "print(\"Archivo subido a Drive.\")\n",
    "\n",
    "# UPLOAD TO KAGGLE\n",
    "print(\"Subiendo a Kaggle...\")\n",
    "subprocess.run([\n",
    "    'kaggle', 'datasets', 'version',\n",
    "    '-p', 'data/',\n",
    "    '-m', \"Auto update dataset\"\n",
    "])\n",
    "print(\"Datos subidos a Kaggle.\")\n"
   ]
  }
 ],
 "metadata": {
  "kernelspec": {
   "display_name": ".venv",
   "language": "python",
   "name": "python3"
  },
  "language_info": {
   "name": "python",
   "version": "3.10.12"
  }
 },
 "nbformat": 4,
 "nbformat_minor": 5
}
