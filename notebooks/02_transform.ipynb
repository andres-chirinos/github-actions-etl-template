{
 "cells": [
  {
   "cell_type": "code",
   "execution_count": null,
   "id": "3639ba22",
   "metadata": {},
   "outputs": [],
   "source": [
    "import pandas as pd\n",
    "\n",
    "# PARAMETERS\n",
    "input_file = 'data/raw_data.csv'\n",
    "\n",
    "# TRANSFORM\n",
    "print(f\"Transformando datos de {input_file}...\")\n",
    "df = pd.read_csv(input_file)\n",
    "\n",
    "df.columns = [col.strip().lower().replace(' ', '_') for col in df.columns]\n",
    "df = df.drop(columns=['columna_innecesaria'], errors='ignore')\n",
    "df['precio'] = df['precio'].replace('[\\$,]', '', regex=True).astype(float)\n",
    "df['fecha'] = pd.to_datetime(df['fecha'])\n",
    "\n",
    "df.to_csv('data/clean_data.csv', index=False)\n",
    "print(\"Transformación terminada.\")\n"
   ]
  }
 ],
 "metadata": {
  "kernelspec": {
   "display_name": ".venv",
   "language": "python",
   "name": "python3"
  },
  "language_info": {
   "name": "python",
   "version": "3.10.12"
  }
 },
 "nbformat": 4,
 "nbformat_minor": 5
}
