{
 "cells": [
  {
   "cell_type": "code",
   "execution_count": null,
   "id": "57ff8254",
   "metadata": {},
   "outputs": [],
   "source": [
    "# Install dependencies\n",
    "%pip install --upgrade pip \n",
    "%pip install pandas"
   ]
  },
  {
   "cell_type": "code",
   "execution_count": null,
   "id": "3639ba22",
   "metadata": {},
   "outputs": [],
   "source": [
    "import pandas as pd\n",
    "\n",
    "# PARAMETERS\n",
    "input_file = 'data/raw_data.csv'"
   ]
  },
  {
   "cell_type": "code",
   "execution_count": null,
   "id": "a2190ff1",
   "metadata": {},
   "outputs": [],
   "source": [
    "import os\n",
    "import pandas as pd\n",
    "\n",
    "if not os.path.exists(input_file):\n",
    "    print(f\"{input_file} not found. Searching for the file...\")\n",
    "    file_found = False\n",
    "    for root, dirs, files in os.walk('.'):\n",
    "        if os.path.basename(input_file) in files:\n",
    "            found_path = os.path.join(root, os.path.basename(input_file))\n",
    "            print(f\"File found at: {found_path}\")\n",
    "            input_file = found_path  # update the file path\n",
    "            file_found = True\n",
    "            break\n",
    "    if not file_found:\n",
    "        print(\"File not found in any directories.\")"
   ]
  },
  {
   "cell_type": "code",
   "execution_count": null,
   "id": "4f2e938d",
   "metadata": {},
   "outputs": [],
   "source": [
    "# TRANSFORM\n",
    "print(f\"Transformando datos de {input_file}...\")\n",
    "df = pd.read_csv(input_file)\n",
    "\n",
    "df.columns = [col.strip().lower().replace(' ', '_') for col in df.columns]\n",
    "\n",
    "df = df.drop(columns=['id'], errors='ignore')\n",
    "\n",
    "df['precio'] = df['precio'].replace('[\\$,]', '', regex=True).astype(float)\n",
    "df['fecha'] = pd.to_datetime(df['fecha'])\n",
    "\n",
    "df.to_csv('data/clean_data.csv', index=False)\n",
    "print(\"Transformación terminada.\")"
   ]
  }
 ],
 "metadata": {
  "kernelspec": {
   "display_name": ".venv",
   "language": "python",
   "name": "python3"
  },
  "language_info": {
   "name": "python",
   "version": "3.10.12"
  }
 },
 "nbformat": 4,
 "nbformat_minor": 5
}
