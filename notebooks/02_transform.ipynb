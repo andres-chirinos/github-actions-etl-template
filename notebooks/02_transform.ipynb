{
 "cells": [
  {
   "cell_type": "markdown",
   "id": "83ee4509",
   "metadata": {},
   "source": [
    "## System"
   ]
  },
  {
   "cell_type": "code",
   "execution_count": null,
   "id": "2820b868",
   "metadata": {},
   "outputs": [],
   "source": [
    "# Install dependencies\n",
    "%pip install --upgrade pip \n",
    "%pip install pandas"
   ]
  },
  {
   "cell_type": "markdown",
   "id": "670222b3",
   "metadata": {},
   "source": [
    "# Run"
   ]
  },
  {
   "cell_type": "markdown",
   "id": "1dcd71b2",
   "metadata": {},
   "source": [
    "## Dependencies and Parameters"
   ]
  },
  {
   "cell_type": "code",
   "execution_count": null,
   "id": "166c66a3",
   "metadata": {},
   "outputs": [],
   "source": [
    "import pandas as pd"
   ]
  },
  {
   "cell_type": "code",
   "execution_count": null,
   "id": "25728719",
   "metadata": {
    "tags": [
     "parameters"
    ]
   },
   "outputs": [],
   "source": [
    "input_file = 'data/raw-data.csv'"
   ]
  },
  {
   "cell_type": "markdown",
   "id": "b6db985a",
   "metadata": {},
   "source": [
    "## Functions"
   ]
  },
  {
   "cell_type": "code",
   "execution_count": null,
   "id": "bc3dfb00",
   "metadata": {},
   "outputs": [],
   "source": []
  },
  {
   "cell_type": "markdown",
   "id": "39d4dac0",
   "metadata": {},
   "source": [
    "## Runtime"
   ]
  },
  {
   "cell_type": "code",
   "execution_count": null,
   "id": "9e757bf7",
   "metadata": {},
   "outputs": [],
   "source": [
    "# TRANSFORM\n",
    "print(f\"Transformando datos de {input_file}...\")\n",
    "df = pd.read_csv(input_file)\n",
    "\n",
    "df.columns = [col.strip().lower().replace(' ', '_') for col in df.columns]\n",
    "\n",
    "df = df.drop(columns=['id'], errors='ignore')\n",
    "\n",
    "df['precio'] = df['precio'].replace('[\\$,]', '', regex=True).astype(float)\n",
    "df['fecha'] = pd.to_datetime(df['fecha'])\n",
    "\n",
    "df.to_csv('data/clean-data.csv', index=False)\n",
    "print(\"Transformación terminada.\")"
   ]
  },
  {
   "cell_type": "markdown",
   "id": "ab3ec9de",
   "metadata": {},
   "source": [
    "# Tests"
   ]
  },
  {
   "cell_type": "code",
   "execution_count": null,
   "id": "561589c2",
   "metadata": {},
   "outputs": [],
   "source": []
  }
 ],
 "metadata": {
  "kernelspec": {
   "display_name": ".venv",
   "language": "python",
   "name": "python3"
  },
  "language_info": {
   "name": "python",
   "version": "3.10.12"
  }
 },
 "nbformat": 4,
 "nbformat_minor": 5
}
